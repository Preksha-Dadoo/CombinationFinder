{
  "nbformat": 4,
  "nbformat_minor": 0,
  "metadata": {
    "colab": {
      "provenance": [],
      "authorship_tag": "ABX9TyOhg7NC94f3ONyoqoiB4fg2",
      "include_colab_link": true
    },
    "kernelspec": {
      "name": "python3",
      "display_name": "Python 3"
    },
    "language_info": {
      "name": "python"
    }
  },
  "cells": [
    {
      "cell_type": "markdown",
      "metadata": {
        "id": "view-in-github",
        "colab_type": "text"
      },
      "source": [
        "<a href=\"https://colab.research.google.com/github/Preksha-Dadoo/CombinationFinder/blob/main/ComboFinder.ipynb\" target=\"_parent\"><img src=\"https://colab.research.google.com/assets/colab-badge.svg\" alt=\"Open In Colab\"/></a>"
      ]
    },
    {
      "cell_type": "markdown",
      "source": [
        "# **ComboFinder**"
      ],
      "metadata": {
        "id": "cUpGzMytFVfh"
      }
    },
    {
      "cell_type": "code",
      "source": [
        "import random as r"
      ],
      "metadata": {
        "id": "4eX6QDinF1i-"
      },
      "execution_count": null,
      "outputs": []
    },
    {
      "cell_type": "code",
      "execution_count": null,
      "metadata": {
        "colab": {
          "base_uri": "https://localhost:8080/"
        },
        "id": "wFc0N0HjD9X7",
        "outputId": "07aa9e21-0549-46f4-d161-b185eebe95ed"
      },
      "outputs": [
        {
          "output_type": "stream",
          "name": "stdout",
          "text": [
            "Orginal List--> {'p1': 10, 'p2': 15, 'p3': 20, 'p4': 25, 'p5': 30, 'p6': 35, 'p7': 50, 'p8': 40, 'p9': 55, 'p10': 60, 'p11': 65, 'p12': 75, 'p13': 70, 'p14': 45}\n"
          ]
        }
      ],
      "source": [
        "ProductList={'p1':10, 'p2':15, 'p3':20, 'p4':25, 'p5':30, 'p6':35, 'p7':50, 'p8':40, 'p9':55, 'p10':60, 'p11':65, 'p12':75, 'p13':70, 'p14':45}\n",
        "print(\"Orginal List-->\", ProductList) #Printing List"
      ]
    },
    {
      "cell_type": "code",
      "source": [
        "u=250   #Upper Limit\n",
        "l=200   #Lower Limit"
      ],
      "metadata": {
        "id": "HLFRG8jZE8gn"
      },
      "execution_count": null,
      "outputs": []
    },
    {
      "cell_type": "code",
      "source": [
        "result =set()\n",
        "\n",
        "for i in range(1000):\n",
        "  Number = r.randint(2, len(ProductList)-1)\n",
        "\n",
        "  combolist = r.sample(list(ProductList.keys()), Number)\n",
        "  combolist.sort()\n",
        "\n",
        "  combosum = sum([ ProductList[i] for i in combolist])\n",
        "\n",
        "  if combosum>= l and combosum<= u:\n",
        "      result.add(tuple(combolist))\n",
        "\n",
        "for r in result:\n",
        "\tprint (r)\n",
        "\n",
        "print (\"\\nTotal Sets: \", len(result), \"\\n\")\n"
      ],
      "metadata": {
        "colab": {
          "base_uri": "https://localhost:8080/"
        },
        "id": "OOv7UHTEF6A0",
        "outputId": "bdfdd299-1c4b-4e1f-d5d7-a7363680f313"
      },
      "execution_count": null,
      "outputs": [
        {
          "output_type": "stream",
          "name": "stdout",
          "text": [
            "('p12', 'p14', 'p3', 'p4', 'p8')\n",
            "('p13', 'p14', 'p6', 'p9')\n",
            "('p1', 'p10', 'p13', 'p4', 'p5', 'p7')\n",
            "('p1', 'p10', 'p13', 'p2', 'p3', 'p6', 'p8')\n",
            "('p10', 'p14', 'p2', 'p3', 'p7', 'p9')\n",
            "('p1', 'p12', 'p13', 'p4', 'p5')\n",
            "('p1', 'p11', 'p12', 'p14', 'p2', 'p4')\n",
            "('p12', 'p13', 'p2', 'p6', 'p8')\n",
            "('p11', 'p14', 'p3', 'p4', 'p7')\n",
            "('p1', 'p13', 'p3', 'p7', 'p8', 'p9')\n",
            "('p1', 'p13', 'p2', 'p4', 'p7', 'p8')\n",
            "('p1', 'p11', 'p12', 'p6', 'p9')\n",
            "('p10', 'p12', 'p4', 'p7', 'p8')\n",
            "('p1', 'p12', 'p13', 'p3', 'p5', 'p8')\n",
            "('p1', 'p10', 'p11', 'p3', 'p7')\n",
            "('p1', 'p10', 'p2', 'p4', 'p7', 'p9')\n",
            "('p10', 'p14', 'p2', 'p4', 'p7', 'p9')\n",
            "('p11', 'p13', 'p6', 'p9')\n",
            "('p10', 'p11', 'p3', 'p5', 'p8')\n",
            "('p10', 'p14', 'p2', 'p7', 'p9')\n",
            "('p1', 'p10', 'p12', 'p9')\n",
            "('p1', 'p11', 'p13', 'p2', 'p3', 'p4', 'p8')\n",
            "('p1', 'p13', 'p14', 'p3', 'p4', 'p6', 'p8')\n",
            "('p11', 'p12', 'p13', 'p6')\n",
            "('p10', 'p12', 'p7', 'p8')\n",
            "('p11', 'p3', 'p5', 'p6', 'p7', 'p8')\n",
            "('p1', 'p12', 'p14', 'p4', 'p5', 'p9')\n",
            "('p11', 'p3', 'p4', 'p6', 'p8', 'p9')\n",
            "('p10', 'p13', 'p3', 'p7', 'p8')\n",
            "('p12', 'p13', 'p2', 'p4', 'p7')\n",
            "('p11', 'p12', 'p14', 'p3', 'p6')\n",
            "('p1', 'p11', 'p12', 'p13', 'p2')\n",
            "('p1', 'p12', 'p13', 'p8', 'p9')\n",
            "('p10', 'p13', 'p2', 'p3', 'p6')\n",
            "('p1', 'p13', 'p3', 'p4', 'p5', 'p7')\n",
            "('p10', 'p11', 'p2', 'p4', 'p5', 'p9')\n",
            "('p1', 'p10', 'p11', 'p3', 'p6', 'p9')\n",
            "('p11', 'p2', 'p3', 'p5', 'p7', 'p9')\n",
            "('p1', 'p11', 'p14', 'p3', 'p4', 'p6')\n",
            "('p10', 'p11', 'p14', 'p2', 'p5', 'p6')\n",
            "('p10', 'p13', 'p3', 'p4', 'p7')\n",
            "('p11', 'p13', 'p4', 'p5', 'p7')\n",
            "('p10', 'p13', 'p5', 'p7', 'p8')\n",
            "('p1', 'p11', 'p12', 'p2', 'p3', 'p4')\n",
            "('p1', 'p10', 'p13', 'p2', 'p3', 'p5')\n",
            "('p11', 'p12', 'p2', 'p3', 'p5', 'p8')\n",
            "('p12', 'p7', 'p8', 'p9')\n",
            "('p10', 'p11', 'p14', 'p9')\n",
            "('p11', 'p5', 'p7', 'p9')\n",
            "('p10', 'p11', 'p6', 'p9')\n",
            "('p1', 'p10', 'p11', 'p13', 'p8')\n",
            "('p1', 'p14', 'p2', 'p7', 'p8', 'p9')\n",
            "('p1', 'p10', 'p14', 'p2', 'p4', 'p5', 'p8')\n",
            "('p10', 'p13', 'p2', 'p4', 'p7')\n",
            "('p1', 'p10', 'p11', 'p13', 'p2')\n",
            "('p1', 'p10', 'p5', 'p7', 'p8', 'p9')\n",
            "('p1', 'p10', 'p2', 'p5', 'p7', 'p8')\n",
            "('p13', 'p3', 'p6', 'p8', 'p9')\n",
            "('p1', 'p11', 'p14', 'p2', 'p4', 'p9')\n",
            "('p1', 'p10', 'p11', 'p3', 'p7', 'p8')\n",
            "('p12', 'p14', 'p4', 'p6', 'p9')\n",
            "('p1', 'p11', 'p13', 'p2', 'p3', 'p7')\n",
            "('p13', 'p14', 'p3', 'p7', 'p9')\n",
            "('p12', 'p3', 'p4', 'p6', 'p7')\n",
            "('p11', 'p3', 'p4', 'p7', 'p9')\n",
            "('p13', 'p2', 'p3', 'p7', 'p8', 'p9')\n",
            "('p1', 'p10', 'p3', 'p6', 'p7', 'p8')\n",
            "('p1', 'p12', 'p13', 'p14', 'p5')\n",
            "('p1', 'p11', 'p13', 'p7', 'p8')\n",
            "('p14', 'p4', 'p6', 'p7', 'p9')\n",
            "('p10', 'p12', 'p4', 'p5', 'p9')\n",
            "('p10', 'p13', 'p14', 'p9')\n",
            "('p1', 'p13', 'p2', 'p3', 'p7', 'p8')\n",
            "('p1', 'p11', 'p14', 'p5', 'p6', 'p8')\n",
            "('p1', 'p10', 'p12', 'p2', 'p4', 'p8')\n",
            "('p10', 'p13', 'p7', 'p9')\n",
            "('p12', 'p2', 'p4', 'p7', 'p8')\n",
            "('p10', 'p13', 'p2', 'p3', 'p4', 'p8')\n",
            "('p1', 'p12', 'p2', 'p3', 'p4', 'p5', 'p6')\n",
            "('p11', 'p13', 'p2', 'p7')\n",
            "('p11', 'p14', 'p2', 'p3', 'p5', 'p7')\n",
            "('p1', 'p11', 'p12', 'p2', 'p5', 'p9')\n",
            "('p10', 'p11', 'p12', 'p5')\n",
            "('p10', 'p13', 'p14', 'p8')\n",
            "('p1', 'p2', 'p3', 'p4', 'p5', 'p7', 'p8', 'p9')\n",
            "('p1', 'p10', 'p11', 'p12', 'p4')\n",
            "('p1', 'p10', 'p12', 'p14', 'p6')\n",
            "('p12', 'p2', 'p4', 'p8', 'p9')\n",
            "('p2', 'p3', 'p4', 'p7', 'p8', 'p9')\n",
            "('p12', 'p13', 'p14', 'p7')\n",
            "('p12', 'p13', 'p2', 'p4', 'p9')\n",
            "('p10', 'p11', 'p14', 'p3', 'p9')\n",
            "\n",
            "Total Sets:  92 \n",
            "\n"
          ]
        }
      ]
    }
  ]
}